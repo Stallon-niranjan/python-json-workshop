{
 "cells": [
  {
   "cell_type": "code",
   "execution_count": 32,
   "metadata": {
    "collapsed": true
   },
   "outputs": [],
   "source": [
    "# using requests module\n",
    "# http://docs.python-requests.org/en/master/\n",
    "import requests"
   ]
  },
  {
   "cell_type": "code",
   "execution_count": 39,
   "metadata": {},
   "outputs": [],
   "source": [
    "#url = 'https://rxnav.nlm.nih.gov/REST/spellingsuggestions.json?name=ambienn'\n",
    "# alternatively\n",
    "url = 'https://rxnav.nlm.nih.gov/REST/spellingsuggestions.json'\n",
    "payload = {'name': 'ambienn'}"
   ]
  },
  {
   "cell_type": "code",
   "execution_count": 40,
   "metadata": {
    "collapsed": true
   },
   "outputs": [],
   "source": [
    "# r = requests.get(url)\n",
    "r = requests.get(url, payload)"
   ]
  },
  {
   "cell_type": "code",
   "execution_count": 41,
   "metadata": {},
   "outputs": [
    {
     "data": {
      "text/plain": [
       "'https://rxnav.nlm.nih.gov/REST/spellingsuggestions.json?name=ambienn'"
      ]
     },
     "execution_count": 41,
     "metadata": {},
     "output_type": "execute_result"
    }
   ],
   "source": [
    "r.url"
   ]
  },
  {
   "cell_type": "code",
   "execution_count": 42,
   "metadata": {},
   "outputs": [],
   "source": [
    "data = r.json()"
   ]
  },
  {
   "cell_type": "code",
   "execution_count": 43,
   "metadata": {},
   "outputs": [
    {
     "data": {
      "text/plain": [
       "{'suggestionGroup': {'name': 'ambienn',\n",
       "  'suggestionList': {'suggestion': ['Ambien',\n",
       "    'Ambifed',\n",
       "    'Amrinon',\n",
       "    'Ammens',\n",
       "    'Amber',\n",
       "    'amrinone',\n",
       "    'algin',\n",
       "    'alizan',\n",
       "    'ambrisentan']}}}"
      ]
     },
     "execution_count": 43,
     "metadata": {},
     "output_type": "execute_result"
    }
   ],
   "source": [
    "data"
   ]
  },
  {
   "cell_type": "code",
   "execution_count": 44,
   "metadata": {},
   "outputs": [
    {
     "data": {
      "text/plain": [
       "dict"
      ]
     },
     "execution_count": 44,
     "metadata": {},
     "output_type": "execute_result"
    }
   ],
   "source": [
    "type(data)"
   ]
  },
  {
   "cell_type": "code",
   "execution_count": 46,
   "metadata": {},
   "outputs": [],
   "source": [
    "suggestionGroup = data['suggestionGroup']"
   ]
  },
  {
   "cell_type": "code",
   "execution_count": 47,
   "metadata": {},
   "outputs": [
    {
     "data": {
      "text/plain": [
       "{'name': 'ambienn',\n",
       " 'suggestionList': {'suggestion': ['Ambien',\n",
       "   'Ambifed',\n",
       "   'Amrinon',\n",
       "   'Ammens',\n",
       "   'Amber',\n",
       "   'amrinone',\n",
       "   'algin',\n",
       "   'alizan',\n",
       "   'ambrisentan']}}"
      ]
     },
     "execution_count": 47,
     "metadata": {},
     "output_type": "execute_result"
    }
   ],
   "source": [
    "suggestionGroup"
   ]
  },
  {
   "cell_type": "code",
   "execution_count": 49,
   "metadata": {},
   "outputs": [],
   "source": [
    "name = suggestionGroup['name']"
   ]
  },
  {
   "cell_type": "code",
   "execution_count": 50,
   "metadata": {
    "collapsed": true
   },
   "outputs": [],
   "source": [
    "suggestionList = suggestionGroup['suggestionList']"
   ]
  },
  {
   "cell_type": "code",
   "execution_count": 51,
   "metadata": {},
   "outputs": [
    {
     "data": {
      "text/plain": [
       "{'suggestion': ['Ambien',\n",
       "  'Ambifed',\n",
       "  'Amrinon',\n",
       "  'Ammens',\n",
       "  'Amber',\n",
       "  'amrinone',\n",
       "  'algin',\n",
       "  'alizan',\n",
       "  'ambrisentan']}"
      ]
     },
     "execution_count": 51,
     "metadata": {},
     "output_type": "execute_result"
    }
   ],
   "source": [
    "suggestionList"
   ]
  },
  {
   "cell_type": "code",
   "execution_count": 52,
   "metadata": {
    "collapsed": true
   },
   "outputs": [],
   "source": [
    "suggestion = suggestionList['suggestion']"
   ]
  },
  {
   "cell_type": "code",
   "execution_count": 53,
   "metadata": {},
   "outputs": [
    {
     "data": {
      "text/plain": [
       "['Ambien',\n",
       " 'Ambifed',\n",
       " 'Amrinon',\n",
       " 'Ammens',\n",
       " 'Amber',\n",
       " 'amrinone',\n",
       " 'algin',\n",
       " 'alizan',\n",
       " 'ambrisentan']"
      ]
     },
     "execution_count": 53,
     "metadata": {},
     "output_type": "execute_result"
    }
   ],
   "source": [
    "suggestion"
   ]
  },
  {
   "cell_type": "code",
   "execution_count": 54,
   "metadata": {},
   "outputs": [
    {
     "data": {
      "text/plain": [
       "list"
      ]
     },
     "execution_count": 54,
     "metadata": {},
     "output_type": "execute_result"
    }
   ],
   "source": [
    "type(suggestion)"
   ]
  },
  {
   "cell_type": "code",
   "execution_count": null,
   "metadata": {
    "collapsed": true
   },
   "outputs": [],
   "source": []
  }
 ],
 "metadata": {
  "kernelspec": {
   "display_name": "Python 3",
   "language": "python",
   "name": "python3"
  },
  "language_info": {
   "codemirror_mode": {
    "name": "ipython",
    "version": 3
   },
   "file_extension": ".py",
   "mimetype": "text/x-python",
   "name": "python",
   "nbconvert_exporter": "python",
   "pygments_lexer": "ipython3",
   "version": "3.5.4"
  }
 },
 "nbformat": 4,
 "nbformat_minor": 2
}
