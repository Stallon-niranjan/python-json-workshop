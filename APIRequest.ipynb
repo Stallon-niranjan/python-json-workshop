{
 "cells": [
  {
   "cell_type": "markdown",
   "metadata": {},
   "source": [
    "### Request JSON data from an API endpoint\n",
    "\n",
    "In this section, we will use the **requests** module to obtain JSON data from an api endpoint supplied by the national library of medicine.  Because python can easily retrieve JSON data as a dictionary structure, we will be able to use techniques for python dictionaries to parse and analyze the information. "
   ]
  },
  {
   "cell_type": "markdown",
   "metadata": {},
   "source": [
    "### A note on this data...\n",
    "\n",
    "The service we will use in this section is from a set of web services hosted by National Library of Medicine.  \n",
    "\n",
    "https://rxnav.nlm.nih.gov\n",
    "\n",
    "You might want to take a few minutes to visit this site, follow the \"APIs\" link, and investigate the services and data available on this site.  For this example, we'll use the spelling suggestions api.\n",
    "\n",
    "You can follow the link below to see the data in your browser - note how similar it is in syntax and structure to the python dictionary we created in the previous section.  \n",
    "\n",
    "https://rxnav.nlm.nih.gov/REST/spellingsuggestions.json?name=ambienn\n",
    "\n",
    "First, let's start by importing the requests module to retrieve data from the web.  "
   ]
  },
  {
   "cell_type": "code",
   "execution_count": 18,
   "metadata": {
    "collapsed": true
   },
   "outputs": [],
   "source": [
    "import requests"
   ]
  },
  {
   "cell_type": "markdown",
   "metadata": {},
   "source": [
    "We will use on a small part of this library - you may want to look through the tutorial and documentation at http://docs.python-requests.org/en/master/.  \n",
    "\n",
    "You can pass request parameters to the web service through the URL itself or through a payload.  Both will work, though the payload approach can be useful when the amount of data you need to send to the URL becomes unwieldy.  Both approaches are shown below, though the direct inclusion in the URL method is commented out."
   ]
  },
  {
   "cell_type": "code",
   "execution_count": 19,
   "metadata": {
    "collapsed": true
   },
   "outputs": [],
   "source": [
    "#url = 'https://rxnav.nlm.nih.gov/REST/spellingsuggestions.json?name=ambienn'\n",
    "url = 'https://rxnav.nlm.nih.gov/REST/spellingsuggestions.json'\n",
    "payload = {'name': 'ambienn'}"
   ]
  },
  {
   "cell_type": "code",
   "execution_count": 20,
   "metadata": {},
   "outputs": [],
   "source": [
    "# r = requests.get(url)\n",
    "r = requests.get(url, payload)"
   ]
  },
  {
   "cell_type": "markdown",
   "metadata": {},
   "source": [
    "The requests module provides a method to view the resulting url from a payload - this can also be useful if you'd like to look at the page directly in your browser.  "
   ]
  },
  {
   "cell_type": "code",
   "execution_count": 21,
   "metadata": {},
   "outputs": [
    {
     "data": {
      "text/plain": [
       "'https://rxnav.nlm.nih.gov/REST/spellingsuggestions.json?name=ambienn'"
      ]
     },
     "execution_count": 21,
     "metadata": {},
     "output_type": "execute_result"
    }
   ],
   "source": [
    "r.url"
   ]
  },
  {
   "cell_type": "markdown",
   "metadata": {},
   "source": [
    "And convert it to JSON"
   ]
  },
  {
   "cell_type": "code",
   "execution_count": 22,
   "metadata": {
    "collapsed": true
   },
   "outputs": [],
   "source": [
    "data = r.json()"
   ]
  },
  {
   "cell_type": "code",
   "execution_count": 23,
   "metadata": {},
   "outputs": [
    {
     "data": {
      "text/plain": [
       "{'suggestionGroup': {'name': 'ambienn',\n",
       "  'suggestionList': {'suggestion': ['Ambien',\n",
       "    'Ambifed',\n",
       "    'Amrinon',\n",
       "    'Ammens',\n",
       "    'Amber',\n",
       "    'amrinone',\n",
       "    'algin',\n",
       "    'alizan',\n",
       "    'ambrisentan']}}}"
      ]
     },
     "execution_count": 23,
     "metadata": {},
     "output_type": "execute_result"
    }
   ],
   "source": [
    "data"
   ]
  },
  {
   "cell_type": "code",
   "execution_count": 24,
   "metadata": {},
   "outputs": [
    {
     "data": {
      "text/plain": [
       "{'suggestionGroup': {'name': 'ambienn',\n",
       "  'suggestionList': {'suggestion': ['Ambien',\n",
       "    'Ambifed',\n",
       "    'Amrinon',\n",
       "    'Ammens',\n",
       "    'Amber',\n",
       "    'amrinone',\n",
       "    'algin',\n",
       "    'alizan',\n",
       "    'ambrisentan']}}}"
      ]
     },
     "execution_count": 24,
     "metadata": {},
     "output_type": "execute_result"
    }
   ],
   "source": [
    "data"
   ]
  },
  {
   "cell_type": "markdown",
   "metadata": {},
   "source": [
    "We can check the type to verify that the data we retrieved is now stored in python as a dictionary"
   ]
  },
  {
   "cell_type": "code",
   "execution_count": 25,
   "metadata": {},
   "outputs": [
    {
     "data": {
      "text/plain": [
       "dict"
      ]
     },
     "execution_count": 25,
     "metadata": {},
     "output_type": "execute_result"
    }
   ],
   "source": [
    "type(data)"
   ]
  },
  {
   "cell_type": "code",
   "execution_count": 26,
   "metadata": {
    "collapsed": true
   },
   "outputs": [],
   "source": [
    "suggestionGroup = data['suggestionGroup']"
   ]
  },
  {
   "cell_type": "markdown",
   "metadata": {},
   "source": [
    "As before, a dictionary can contain either primitives or objects, including other data structures such as lists or other dictionaries"
   ]
  },
  {
   "cell_type": "code",
   "execution_count": 27,
   "metadata": {},
   "outputs": [
    {
     "data": {
      "text/plain": [
       "{'name': 'ambienn',\n",
       " 'suggestionList': {'suggestion': ['Ambien',\n",
       "   'Ambifed',\n",
       "   'Amrinon',\n",
       "   'Ammens',\n",
       "   'Amber',\n",
       "   'amrinone',\n",
       "   'algin',\n",
       "   'alizan',\n",
       "   'ambrisentan']}}"
      ]
     },
     "execution_count": 27,
     "metadata": {},
     "output_type": "execute_result"
    }
   ],
   "source": [
    "suggestionGroup"
   ]
  },
  {
   "cell_type": "code",
   "execution_count": 28,
   "metadata": {
    "collapsed": true
   },
   "outputs": [],
   "source": [
    "name = suggestionGroup['name']"
   ]
  },
  {
   "cell_type": "code",
   "execution_count": 29,
   "metadata": {
    "collapsed": true
   },
   "outputs": [],
   "source": [
    "suggestionList = suggestionGroup['suggestionList']"
   ]
  },
  {
   "cell_type": "code",
   "execution_count": 30,
   "metadata": {},
   "outputs": [
    {
     "data": {
      "text/plain": [
       "{'suggestion': ['Ambien',\n",
       "  'Ambifed',\n",
       "  'Amrinon',\n",
       "  'Ammens',\n",
       "  'Amber',\n",
       "  'amrinone',\n",
       "  'algin',\n",
       "  'alizan',\n",
       "  'ambrisentan']}"
      ]
     },
     "execution_count": 30,
     "metadata": {},
     "output_type": "execute_result"
    }
   ],
   "source": [
    "suggestionList"
   ]
  },
  {
   "cell_type": "code",
   "execution_count": 31,
   "metadata": {
    "collapsed": true
   },
   "outputs": [],
   "source": [
    "suggestion = suggestionList['suggestion']"
   ]
  },
  {
   "cell_type": "code",
   "execution_count": 32,
   "metadata": {},
   "outputs": [
    {
     "data": {
      "text/plain": [
       "['Ambien',\n",
       " 'Ambifed',\n",
       " 'Amrinon',\n",
       " 'Ammens',\n",
       " 'Amber',\n",
       " 'amrinone',\n",
       " 'algin',\n",
       " 'alizan',\n",
       " 'ambrisentan']"
      ]
     },
     "execution_count": 32,
     "metadata": {},
     "output_type": "execute_result"
    }
   ],
   "source": [
    "suggestion"
   ]
  },
  {
   "cell_type": "code",
   "execution_count": 33,
   "metadata": {},
   "outputs": [
    {
     "data": {
      "text/plain": [
       "list"
      ]
     },
     "execution_count": 33,
     "metadata": {},
     "output_type": "execute_result"
    }
   ],
   "source": [
    "type(suggestion)"
   ]
  },
  {
   "cell_type": "code",
   "execution_count": null,
   "metadata": {
    "collapsed": true
   },
   "outputs": [],
   "source": []
  },
  {
   "cell_type": "code",
   "execution_count": null,
   "metadata": {
    "collapsed": true
   },
   "outputs": [],
   "source": []
  },
  {
   "cell_type": "code",
   "execution_count": null,
   "metadata": {
    "collapsed": true
   },
   "outputs": [],
   "source": []
  }
 ],
 "metadata": {
  "kernelspec": {
   "display_name": "Python 3",
   "language": "python",
   "name": "python3"
  },
  "language_info": {
   "codemirror_mode": {
    "name": "ipython",
    "version": 3
   },
   "file_extension": ".py",
   "mimetype": "text/x-python",
   "name": "python",
   "nbconvert_exporter": "python",
   "pygments_lexer": "ipython3",
   "version": "3.5.4"
  }
 },
 "nbformat": 4,
 "nbformat_minor": 2
}
