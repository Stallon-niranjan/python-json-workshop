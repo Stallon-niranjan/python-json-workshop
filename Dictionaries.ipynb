{
 "cells": [
  {
   "cell_type": "code",
   "execution_count": 9,
   "metadata": {},
   "outputs": [],
   "source": [
    "#https://www.mayoclinic.org/healthy-lifestyle/nutrition-and-healthy-eating/in-depth/caffeine/art-20049372\n",
    "caffeine_levels = {'coffee': 165, 'tea': 48, 'cola': 46, 'energy drink': 164}"
   ]
  },
  {
   "cell_type": "code",
   "execution_count": 10,
   "metadata": {},
   "outputs": [
    {
     "data": {
      "text/plain": [
       "165"
      ]
     },
     "execution_count": 10,
     "metadata": {},
     "output_type": "execute_result"
    }
   ],
   "source": [
    "caffeine_levels['coffee']"
   ]
  },
  {
   "cell_type": "code",
   "execution_count": 11,
   "metadata": {},
   "outputs": [
    {
     "data": {
      "text/plain": [
       "48"
      ]
     },
     "execution_count": 11,
     "metadata": {},
     "output_type": "execute_result"
    }
   ],
   "source": [
    "caffeine_levels['tea']"
   ]
  },
  {
   "cell_type": "code",
   "execution_count": 12,
   "metadata": {
    "collapsed": true
   },
   "outputs": [],
   "source": [
    "# what if you'd like more information?  You can store anything in a dict, including another dict"
   ]
  },
  {
   "cell_type": "code",
   "execution_count": 13,
   "metadata": {},
   "outputs": [],
   "source": [
    "caffeine_max_min = {'coffee_max': 165, 'coffee_min': 95, 'tea_max': 48, 'tea_min': 45}"
   ]
  },
  {
   "cell_type": "code",
   "execution_count": 7,
   "metadata": {
    "collapsed": true
   },
   "outputs": [],
   "source": [
    "# list gets long, you might prefer to nest it"
   ]
  },
  {
   "cell_type": "code",
   "execution_count": 34,
   "metadata": {},
   "outputs": [],
   "source": [
    "caffeinated_drinks = {\n",
    "        'coffee': \n",
    "        [{'type': 'brewed', 'size': 8, 'max': 165, 'min': 95}, \n",
    "        {'type': 'brewed, decaf', 'size': 8, 'max': 5, 'min': 2},\n",
    "        {'type': 'espresso', 'size': 1, 'max': 64, 'min': 47},\n",
    "        ],\n",
    "        'tea': \n",
    "        [{'type': 'brewed black','size': 8, 'max': 48, 'min': 25}, \n",
    "        {'type': 'brewed black, decaf', 'size': 8, 'max': 5, 'min': 2},\n",
    "        {'type': 'brewed green', 'size': 1, 'max': 29, 'min': 25},\n",
    "        ]\n",
    "    }"
   ]
  },
  {
   "cell_type": "code",
   "execution_count": 35,
   "metadata": {},
   "outputs": [
    {
     "data": {
      "text/plain": [
       "{'coffee': [{'max': 165, 'min': 95, 'size': 8, 'type': 'brewed'},\n",
       "  {'max': 5, 'min': 2, 'size': 8, 'type': 'brewed, decaf'},\n",
       "  {'max': 64, 'min': 47, 'size': 1, 'type': 'espresso'}],\n",
       " 'tea': [{'max': 48, 'min': 25, 'size': 8, 'type': 'brewed black'},\n",
       "  {'max': 5, 'min': 2, 'size': 8, 'type': 'brewed black, decaf'},\n",
       "  {'max': 29, 'min': 25, 'size': 1, 'type': 'brewed green'}]}"
      ]
     },
     "execution_count": 35,
     "metadata": {},
     "output_type": "execute_result"
    }
   ],
   "source": [
    "caffeinated_drinks"
   ]
  },
  {
   "cell_type": "code",
   "execution_count": 36,
   "metadata": {},
   "outputs": [
    {
     "data": {
      "text/plain": [
       "[{'max': 165, 'min': 95, 'size': 8, 'type': 'brewed'},\n",
       " {'max': 5, 'min': 2, 'size': 8, 'type': 'brewed, decaf'},\n",
       " {'max': 64, 'min': 47, 'size': 1, 'type': 'espresso'}]"
      ]
     },
     "execution_count": 36,
     "metadata": {},
     "output_type": "execute_result"
    }
   ],
   "source": [
    "# to get the ratio of caffeine in espresso to coffee\n",
    "caffeinated_drinks['coffee']"
   ]
  },
  {
   "cell_type": "code",
   "execution_count": 37,
   "metadata": {},
   "outputs": [
    {
     "data": {
      "text/plain": [
       "dict"
      ]
     },
     "execution_count": 37,
     "metadata": {},
     "output_type": "execute_result"
    }
   ],
   "source": [
    "type(caffeinated_drinks)"
   ]
  },
  {
   "cell_type": "code",
   "execution_count": 38,
   "metadata": {},
   "outputs": [
    {
     "data": {
      "text/plain": [
       "list"
      ]
     },
     "execution_count": 38,
     "metadata": {},
     "output_type": "execute_result"
    }
   ],
   "source": [
    "type(caffeinated_drinks['coffee'])"
   ]
  },
  {
   "cell_type": "code",
   "execution_count": 39,
   "metadata": {},
   "outputs": [
    {
     "data": {
      "text/plain": [
       "dict"
      ]
     },
     "execution_count": 39,
     "metadata": {},
     "output_type": "execute_result"
    }
   ],
   "source": [
    "type(caffeinated_drinks['coffee'][0])"
   ]
  },
  {
   "cell_type": "code",
   "execution_count": 41,
   "metadata": {},
   "outputs": [
    {
     "data": {
      "text/plain": [
       "int"
      ]
     },
     "execution_count": 41,
     "metadata": {},
     "output_type": "execute_result"
    }
   ],
   "source": [
    "# one way is with knowledge of the structure\n",
    "type(caffeinated_drinks['coffee'][0]['max'])"
   ]
  },
  {
   "cell_type": "code",
   "execution_count": 44,
   "metadata": {},
   "outputs": [
    {
     "data": {
      "text/plain": [
       "165"
      ]
     },
     "execution_count": 44,
     "metadata": {},
     "output_type": "execute_result"
    }
   ],
   "source": [
    "caffeinated_drinks['coffee'][0]['max']"
   ]
  },
  {
   "cell_type": "code",
   "execution_count": 45,
   "metadata": {
    "collapsed": true
   },
   "outputs": [],
   "source": [
    "# what if I wanted to find the most caffeinated beverage?"
   ]
  },
  {
   "cell_type": "code",
   "execution_count": 46,
   "metadata": {
    "collapsed": true
   },
   "outputs": [],
   "source": [
    "# one approach is to use your knowledge of the structure of the dictionary\n",
    "# you can iterate over the keys"
   ]
  },
  {
   "cell_type": "code",
   "execution_count": 63,
   "metadata": {},
   "outputs": [
    {
     "name": "stdout",
     "output_type": "stream",
     "text": [
      "brewed black 48\n",
      "brewed black, decaf 5\n",
      "brewed green 29\n",
      "brewed 165\n",
      "brewed, decaf 5\n",
      "espresso 64\n"
     ]
    }
   ],
   "source": [
    "max_caffeine = 0\n",
    "for cd in caffeinated_drinks:\n",
    "    for d in caffeinated_drinks[cd]:\n",
    "        print(d['type'],d['max'])"
   ]
  },
  {
   "cell_type": "code",
   "execution_count": 64,
   "metadata": {},
   "outputs": [],
   "source": [
    "# exercise - find the beverage with the hightest caffine.  \n",
    "# can you do this in the loop?\n",
    "# can you do this by creating an ordered dictionary and sorting keys by value?"
   ]
  },
  {
   "cell_type": "code",
   "execution_count": null,
   "metadata": {},
   "outputs": [],
   "source": []
  },
  {
   "cell_type": "code",
   "execution_count": null,
   "metadata": {},
   "outputs": [],
   "source": []
  },
  {
   "cell_type": "code",
   "execution_count": null,
   "metadata": {
    "collapsed": true
   },
   "outputs": [],
   "source": []
  }
 ],
 "metadata": {
  "kernelspec": {
   "display_name": "Python 3",
   "language": "python",
   "name": "python3"
  },
  "language_info": {
   "codemirror_mode": {
    "name": "ipython",
    "version": 3
   },
   "file_extension": ".py",
   "mimetype": "text/x-python",
   "name": "python",
   "nbconvert_exporter": "python",
   "pygments_lexer": "ipython3",
   "version": "3.5.4"
  }
 },
 "nbformat": 4,
 "nbformat_minor": 2
}
